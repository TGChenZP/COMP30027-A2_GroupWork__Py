{
 "cells": [
  {
   "cell_type": "markdown",
   "id": "0e0ef483-344c-4d16-97e3-7d7cbada0eab",
   "metadata": {},
   "source": [
    "# 0. Inspection"
   ]
  },
  {
   "cell_type": "code",
   "execution_count": 1,
   "id": "edaa9b06-99bc-4e8d-9757-59b14c92e424",
   "metadata": {},
   "outputs": [],
   "source": [
    "import pandas as pd\n",
    "import matplotlib.pyplot as plt"
   ]
  },
  {
   "cell_type": "code",
   "execution_count": 2,
   "id": "8a3d82e1-66f9-488e-8141-002e9951a4cb",
   "metadata": {},
   "outputs": [],
   "source": [
    "data = pd.read_csv('./Data/Train.csv')"
   ]
  },
  {
   "cell_type": "markdown",
   "id": "8c39b188-11b7-462f-af96-d5a6ec242e19",
   "metadata": {},
   "source": [
    "Inspect counts"
   ]
  },
  {
   "cell_type": "code",
   "execution_count": 3,
   "id": "03daf062-49d3-45ca-818d-a0b089dac61a",
   "metadata": {},
   "outputs": [
    {
     "data": {
      "text/plain": [
       "neutral     12659\n",
       "positive     5428\n",
       "negative     3715\n",
       "Name: sentiment, dtype: int64"
      ]
     },
     "execution_count": 3,
     "metadata": {},
     "output_type": "execute_result"
    }
   ],
   "source": [
    "data['sentiment'].value_counts()"
   ]
  },
  {
   "cell_type": "markdown",
   "id": "e785f38e-b3c3-48b9-b3f0-023f9bd26a43",
   "metadata": {},
   "source": [
    "Inspect Length"
   ]
  },
  {
   "cell_type": "code",
   "execution_count": 4,
   "id": "9ba48de2-2f43-4d57-b152-d0fdd849c637",
   "metadata": {},
   "outputs": [
    {
     "data": {
      "text/plain": [
       "21802"
      ]
     },
     "execution_count": 4,
     "metadata": {},
     "output_type": "execute_result"
    }
   ],
   "source": [
    "len(data)\n"
   ]
  },
  {
   "cell_type": "markdown",
   "id": "0c094060-8191-45b6-906b-23297d653f29",
   "metadata": {},
   "source": [
    "Inspect data"
   ]
  },
  {
   "cell_type": "code",
   "execution_count": 5,
   "id": "d3243b6e-7d3b-4482-817d-367b21af41c3",
   "metadata": {},
   "outputs": [
    {
     "data": {
      "text/html": [
       "<div>\n",
       "<style scoped>\n",
       "    .dataframe tbody tr th:only-of-type {\n",
       "        vertical-align: middle;\n",
       "    }\n",
       "\n",
       "    .dataframe tbody tr th {\n",
       "        vertical-align: top;\n",
       "    }\n",
       "\n",
       "    .dataframe thead th {\n",
       "        text-align: right;\n",
       "    }\n",
       "</style>\n",
       "<table border=\"1\" class=\"dataframe\">\n",
       "  <thead>\n",
       "    <tr style=\"text-align: right;\">\n",
       "      <th></th>\n",
       "      <th>Unnamed: 0</th>\n",
       "      <th>id</th>\n",
       "      <th>text</th>\n",
       "      <th>sentiment</th>\n",
       "    </tr>\n",
       "  </thead>\n",
       "  <tbody>\n",
       "    <tr>\n",
       "      <th>0</th>\n",
       "      <td>2</td>\n",
       "      <td>805582613687713000</td>\n",
       "      <td>doctors hit campaign trail as race to medical...</td>\n",
       "      <td>neutral</td>\n",
       "    </tr>\n",
       "    <tr>\n",
       "      <th>1</th>\n",
       "      <td>3</td>\n",
       "      <td>637480203497832000</td>\n",
       "      <td>is anybody going to the radio station tomorro...</td>\n",
       "      <td>positive</td>\n",
       "    </tr>\n",
       "    <tr>\n",
       "      <th>2</th>\n",
       "      <td>4</td>\n",
       "      <td>641096279930507000</td>\n",
       "      <td>i just found out naruto didn't become the 5th...</td>\n",
       "      <td>neutral</td>\n",
       "    </tr>\n",
       "    <tr>\n",
       "      <th>3</th>\n",
       "      <td>5</td>\n",
       "      <td>625730917647126000</td>\n",
       "      <td>\"prince george reservist who died saturday ju...</td>\n",
       "      <td>neutral</td>\n",
       "    </tr>\n",
       "    <tr>\n",
       "      <th>4</th>\n",
       "      <td>6</td>\n",
       "      <td>633292370906230000</td>\n",
       "      <td>season in the sun versi nirvana rancak gak..s...</td>\n",
       "      <td>positive</td>\n",
       "    </tr>\n",
       "    <tr>\n",
       "      <th>...</th>\n",
       "      <td>...</td>\n",
       "      <td>...</td>\n",
       "      <td>...</td>\n",
       "      <td>...</td>\n",
       "    </tr>\n",
       "    <tr>\n",
       "      <th>21797</th>\n",
       "      <td>27896</td>\n",
       "      <td>805677750363095000</td>\n",
       "      <td>@hrtablaze the beginning of a dictatorship is ...</td>\n",
       "      <td>negative</td>\n",
       "    </tr>\n",
       "    <tr>\n",
       "      <th>21798</th>\n",
       "      <td>27897</td>\n",
       "      <td>637854813930196000</td>\n",
       "      <td>son idc anymore. i'm going by shawn tomorrow</td>\n",
       "      <td>neutral</td>\n",
       "    </tr>\n",
       "    <tr>\n",
       "      <th>21799</th>\n",
       "      <td>27898</td>\n",
       "      <td>802374277047656000</td>\n",
       "      <td>but remember the clinton foundation?? https://...</td>\n",
       "      <td>neutral</td>\n",
       "    </tr>\n",
       "    <tr>\n",
       "      <th>21800</th>\n",
       "      <td>27899</td>\n",
       "      <td>640441306494296000</td>\n",
       "      <td>press: \"r u worried murray dominated his 3rd r...</td>\n",
       "      <td>neutral</td>\n",
       "    </tr>\n",
       "    <tr>\n",
       "      <th>21801</th>\n",
       "      <td>27900</td>\n",
       "      <td>638666306015789000</td>\n",
       "      <td>@rinashah i have been using moto g 2nd gen for...</td>\n",
       "      <td>positive</td>\n",
       "    </tr>\n",
       "  </tbody>\n",
       "</table>\n",
       "<p>21802 rows × 4 columns</p>\n",
       "</div>"
      ],
      "text/plain": [
       "       Unnamed: 0                  id  \\\n",
       "0               2  805582613687713000   \n",
       "1               3  637480203497832000   \n",
       "2               4  641096279930507000   \n",
       "3               5  625730917647126000   \n",
       "4               6  633292370906230000   \n",
       "...           ...                 ...   \n",
       "21797       27896  805677750363095000   \n",
       "21798       27897  637854813930196000   \n",
       "21799       27898  802374277047656000   \n",
       "21800       27899  640441306494296000   \n",
       "21801       27900  638666306015789000   \n",
       "\n",
       "                                                    text sentiment  \n",
       "0       doctors hit campaign trail as race to medical...   neutral  \n",
       "1       is anybody going to the radio station tomorro...  positive  \n",
       "2       i just found out naruto didn't become the 5th...   neutral  \n",
       "3       \"prince george reservist who died saturday ju...   neutral  \n",
       "4       season in the sun versi nirvana rancak gak..s...  positive  \n",
       "...                                                  ...       ...  \n",
       "21797  @hrtablaze the beginning of a dictatorship is ...  negative  \n",
       "21798       son idc anymore. i'm going by shawn tomorrow   neutral  \n",
       "21799  but remember the clinton foundation?? https://...   neutral  \n",
       "21800  press: \"r u worried murray dominated his 3rd r...   neutral  \n",
       "21801  @rinashah i have been using moto g 2nd gen for...  positive  \n",
       "\n",
       "[21802 rows x 4 columns]"
      ]
     },
     "execution_count": 5,
     "metadata": {},
     "output_type": "execute_result"
    }
   ],
   "source": [
    "data"
   ]
  },
  {
   "cell_type": "markdown",
   "id": "f12c7498-cf1a-41bd-ad65-c5d0355fa121",
   "metadata": {},
   "source": [
    "Generate Bar Charts "
   ]
  },
  {
   "cell_type": "code",
   "execution_count": 6,
   "id": "1822db58-2baa-4cbf-a050-8e7394b9d44c",
   "metadata": {},
   "outputs": [
    {
     "data": {
      "image/png": "[encoded data removed]",
      "text/plain": [
       "<Figure size 432x288 with 1 Axes>"
      ]
     },
     "metadata": {
      "needs_background": "light"
     },
     "output_type": "display_data"
    }
   ],
   "source": [
    "count =  {'positive': 0, 'neutral': 0, 'negative': 0}\n",
    "for label in data['sentiment']:\n",
    "    count[label] += 1\n",
    "\n",
    "for key in count:\n",
    "    count[key] = (100*count[key]/21802) \n",
    "    \n",
    "\n",
    "plt.bar(height = count.values(), x = count.keys())\n",
    "\n",
    "plt.title('Distribution of Labels')\n",
    "plt.ylabel('Percentage')\n",
    "plt.xlabel('Class label')\n",
    "plt.savefig('LabelDistribution.png')"
   ]
  },
  {
   "cell_type": "markdown",
   "id": "acfb7040-686d-490e-b848-a1df41e2ca05",
   "metadata": {},
   "source": [
    "Observe Average words and max words"
   ]
  },
  {
   "cell_type": "code",
   "execution_count": 7,
   "id": "37909d8d-5cff-48b9-b38a-794181bb9539",
   "metadata": {},
   "outputs": [
    {
     "data": {
      "text/plain": [
       "17.99119346848913"
      ]
     },
     "execution_count": 7,
     "metadata": {},
     "output_type": "execute_result"
    }
   ],
   "source": [
    "count = 0\n",
    "for tweet in data['text']:\n",
    "    count += len(tweet.split())\n",
    "count/len(data)"
   ]
  },
  {
   "cell_type": "code",
   "execution_count": 8,
   "id": "8fa5fd37-b06b-4272-af0f-fa60ecdf2cbb",
   "metadata": {},
   "outputs": [],
   "source": [
    "tmp = []\n",
    "for tweet in data['text']:\n",
    "    tmp.append(len(tweet.split()))\n",
    "tmp.sort()"
   ]
  },
  {
   "cell_type": "code",
   "execution_count": 9,
   "id": "9aaa91b6-3de9-4f39-984c-6395aaf4e9fe",
   "metadata": {},
   "outputs": [
    {
     "data": {
      "text/plain": [
       "159"
      ]
     },
     "execution_count": 9,
     "metadata": {},
     "output_type": "execute_result"
    }
   ],
   "source": [
    "tmp[-1]"
   ]
  },
  {
   "cell_type": "code",
   "execution_count": null,
   "id": "0dd11139-fa60-4a07-ab0a-0566b7733813",
   "metadata": {},
   "outputs": [],
   "source": []
  }
 ],
 "metadata": {
  "kernelspec": {
   "display_name": "Python 3 (ipykernel)",
   "language": "python",
   "name": "python3"
  },
  "language_info": {
   "codemirror_mode": {
    "name": "ipython",
    "version": 3
   },
   "file_extension": ".py",
   "mimetype": "text/x-python",
   "name": "python",
   "nbconvert_exporter": "python",
   "pygments_lexer": "ipython3",
   "version": "3.9.7"
  }
 },
 "nbformat": 4,
 "nbformat_minor": 5
}
